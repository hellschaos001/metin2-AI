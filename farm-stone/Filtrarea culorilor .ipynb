{
 "cells": [
  {
   "cell_type": "code",
   "execution_count": 2,
   "id": "3b973af6",
   "metadata": {
    "ExecuteTime": {
     "end_time": "2023-12-16T15:02:09.229505200Z",
     "start_time": "2023-12-16T15:02:09.157151500Z"
    }
   },
   "outputs": [],
   "source": [
    "import numpy as np\n",
    "import cv2 as cv"
   ]
  },
  {
   "cell_type": "code",
   "execution_count": 2,
   "id": "e2588322",
   "metadata": {
    "ExecuteTime": {
     "end_time": "2023-12-16T13:32:21.366453500Z",
     "start_time": "2023-12-16T13:32:21.362943400Z"
    }
   },
   "outputs": [],
   "source": [
    "def find_color_values_using_trackbar(frame_gray):\n",
    " \n",
    "    def nothing(x):\n",
    "        pass\n",
    "\n",
    "    cv.namedWindow(\"Trackbar\") \n",
    "    cv.createTrackbar(\"L\", \"Trackbar\", 0, 255, nothing)\n",
    "    cv.createTrackbar(\"U\", \"Trackbar\", 255, 255, nothing)\n",
    "\n",
    "    while True:\n",
    "        l = cv.getTrackbarPos(\"L\", \"Trackbar\")\n",
    "        u = cv.getTrackbarPos(\"U\", \"Trackbar\")\n",
    "\n",
    "        mask = cv.inRange(frame_gray, l, u)\n",
    "        res = cv.bitwise_and(frame_gray, frame_gray, mask=mask)\n",
    "\n",
    "        cv.imshow(\"Frame\", frame_gray)\n",
    "        cv.imshow(\"Mask\", mask)\n",
    "        cv.imshow(\"Res\", res)\n",
    "\n",
    "        if cv.waitKey(25) & 0xFF == ord('q'):\n",
    "            break\n",
    "    cv.destroyAllWindows()"
   ]
  },
  {
   "cell_type": "code",
   "execution_count": 1,
   "id": "ab73d97b",
   "metadata": {
    "ExecuteTime": {
     "end_time": "2023-12-16T15:02:05.031270200Z",
     "start_time": "2023-12-16T15:02:04.920673700Z"
    }
   },
   "outputs": [
    {
     "ename": "NameError",
     "evalue": "name 'cv' is not defined",
     "output_type": "error",
     "traceback": [
      "\u001B[1;31m---------------------------------------------------------------------------\u001B[0m",
      "\u001B[1;31mNameError\u001B[0m                                 Traceback (most recent call last)",
      "Cell \u001B[1;32mIn[1], line 1\u001B[0m\n\u001B[1;32m----> 1\u001B[0m img \u001B[38;5;241m=\u001B[39m \u001B[43mcv\u001B[49m\u001B[38;5;241m.\u001B[39mimread(\u001B[38;5;124m\"\u001B[39m\u001B[38;5;124mC:/Users/allex/Desktop/git_repos/metin2-AI/farm-stone/resources/template.png\u001B[39m\u001B[38;5;124m\"\u001B[39m, cv\u001B[38;5;241m.\u001B[39mIMREAD_GRAYSCALE)\n\u001B[0;32m      2\u001B[0m find_color_values_using_trackbar(img)\n",
      "\u001B[1;31mNameError\u001B[0m: name 'cv' is not defined"
     ]
    }
   ],
   "source": [
    "img = cv.imread(\"C:/Users/allex/Desktop/git_repos/metin2-AI/farm-stone/resources/template.png\", cv.IMREAD_GRAYSCALE)\n",
    "find_color_values_using_trackbar(img)"
   ]
  },
  {
   "cell_type": "code",
   "execution_count": 5,
   "id": "a91bbc1d",
   "metadata": {
    "ExecuteTime": {
     "end_time": "2023-12-16T15:03:06.119270400Z",
     "start_time": "2023-12-16T15:03:00.859298300Z"
    }
   },
   "outputs": [],
   "source": [
    "img = cv.imread(\"C:/Users/allex/Desktop/git_repos/metin2-AI/farm-stone/resources/template.png\", cv.IMREAD_GRAYSCALE)\n",
    "mask = cv.inRange(img, 200, 255)\n",
    "res = cv.bitwise_and(img, img, mask=mask)\n",
    "\n",
    "cv.imshow('img_initial', img)\n",
    "cv.imshow('mask_yellow_hsv', res)\n",
    "cv.waitKey(0)\n",
    "cv.destroyAllWindows()"
   ]
  },
  {
   "cell_type": "code",
   "execution_count": null,
   "id": "31cd69be",
   "metadata": {},
   "outputs": [],
   "source": []
  }
 ],
 "metadata": {
  "kernelspec": {
   "display_name": "Python 3 (ipykernel)",
   "language": "python",
   "name": "python3"
  },
  "language_info": {
   "codemirror_mode": {
    "name": "ipython",
    "version": 3
   },
   "file_extension": ".py",
   "mimetype": "text/x-python",
   "name": "python",
   "nbconvert_exporter": "python",
   "pygments_lexer": "ipython3",
   "version": "3.8.11"
  }
 },
 "nbformat": 4,
 "nbformat_minor": 5
}
