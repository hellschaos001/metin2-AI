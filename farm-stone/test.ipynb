{
 "cells": [
  {
   "cell_type": "code",
   "execution_count": 1,
   "outputs": [
    {
     "name": "stdout",
     "output_type": "stream",
     "text": [
      "Worker 1: Waiting for master to be available\n",
      "Worker 2: Waiting for master to be available\n",
      "Master is available\n",
      "Worker 2: Master is available, sending request\n",
      "Worker 2: Request sent, waiting for response\n",
      "Worker 2: Response received\n",
      "Worker 1: Master is available, sending request\n",
      "Worker 1: Request sent, waiting for response\n",
      "Worker 1: Response received\n"
     ]
    }
   ],
   "source": [
    "import threading\n",
    "import time\n",
    "\n",
    "# Create an event object to signal when the master is available\n",
    "master_available = threading.Event()\n",
    "\n",
    "def worker1():\n",
    "    global master_available\n",
    "    # Worker 1 wants to send a request to the master\n",
    "    print(\"Worker 1: Waiting for master to be available\")\n",
    "    master_available.wait()\n",
    "    print(\"Worker 1: Master is available, sending request\")\n",
    "    # Send request to master\n",
    "    # ...\n",
    "    print(\"Worker 1: Request sent, waiting for response\")\n",
    "    print(\"Worker 1: Response received\")\n",
    "\n",
    "def worker2():\n",
    "    global master_available\n",
    "    # Worker 2 wants to send a request to the master\n",
    "    print(\"Worker 2: Waiting for master to be available\")\n",
    "    master_available.wait()\n",
    "    print(\"Worker 2: Master is available, sending request\")\n",
    "    # Send request to master\n",
    "    # ...\n",
    "    print(\"Worker 2: Request sent, waiting for response\")\n",
    "    print(\"Worker 2: Response received\")\n",
    "\n",
    "# Create worker threads\n",
    "thread1 = threading.Thread(target=worker1)\n",
    "thread2 = threading.Thread(target=worker2)\n",
    "\n",
    "# Start the worker threads\n",
    "thread1.start()\n",
    "thread2.start()\n",
    "\n",
    "time.sleep(4)\n",
    "# Simulate the master becoming available\n",
    "print(\"Master is available\")\n",
    "master_available.set()\n",
    "\n",
    "# Wait for both threads to finish\n",
    "thread1.join()\n",
    "thread2.join()\n"
   ],
   "metadata": {
    "collapsed": false,
    "ExecuteTime": {
     "end_time": "2023-12-18T08:29:57.098881400Z",
     "start_time": "2023-12-18T08:29:53.085087200Z"
    }
   },
   "id": "3a8b69fd0a83ec0c"
  },
  {
   "cell_type": "code",
   "execution_count": null,
   "outputs": [],
   "source": [
    "import threading\n",
    "\n",
    "# Create an event object to signal when the master is available\n",
    "master_available = threading.Event()\n",
    "\n",
    "# Shared flag to indicate whether the master is currently in use\n",
    "master_in_use = False\n",
    "\n",
    "def worker1():\n",
    "    global master_available, master_in_use\n",
    "    # Worker 1 wants to send a request to the master\n",
    "    print(\"Worker 1: Waiting for access to master\")\n",
    "    while master_in_use:\n",
    "        pass  # Wait until the master is available\n",
    "    master_in_use = True\n",
    "    print(\"Worker 1: Access to master granted, sending request\")\n",
    "    # Send request to master\n",
    "    # ...\n",
    "    print(\"Worker 1: Request sent, waiting for response\")\n",
    "    # Simulate master doing work and responding\n",
    "    master_available.set()\n",
    "    master_available.clear()  # Reset the event\n",
    "    master_in_use = False\n",
    "    print(\"Worker 1: Response received, releasing master\")\n",
    "\n",
    "def worker2():\n",
    "    global master_available, master_in_use\n",
    "    # Worker 2 wants to send a request to the master\n",
    "    print(\"Worker 2: Waiting for access to master\")\n",
    "    while master_in_use:\n",
    "        pass  # Wait until the master is available\n",
    "    master_in_use = True\n",
    "    print(\"Worker 2: Access to master granted, sending request\")\n",
    "    # Send request to master\n",
    "    # ...\n",
    "    print(\"Worker 2: Request sent, waiting for response\")\n",
    "    # Simulate master doing work and responding\n",
    "    master_available.set()\n",
    "    master_available.clear()  # Reset the event\n",
    "    master_in_use = False\n",
    "    print(\"Worker 2: Response received, releasing master\")\n",
    "\n",
    "# Create worker threads\n",
    "thread1 = threading.Thread(target=worker1)\n",
    "thread2 = threading.Thread(target=worker2)\n",
    "\n",
    "# Start the worker threads\n",
    "thread1.start()\n",
    "thread2.start()\n",
    "\n",
    "# Wait for both threads to finish\n",
    "thread1.join()\n",
    "thread2.join()\n"
   ],
   "metadata": {
    "collapsed": false
   },
   "id": "4a282bbf36759762"
  },
  {
   "cell_type": "code",
   "execution_count": 2,
   "outputs": [
    {
     "name": "stdout",
     "output_type": "stream",
     "text": [
      "Worker 1: Waiting for lock\n",
      "Worker 1: Lock acquired, sending request to master\n",
      "Worker 1: Request sent, waiting for response\n",
      "Worker 1: Lock released, response received\n",
      "Worker 2: Waiting for lock\n",
      "Worker 2: Lock acquired, sending request to master\n",
      "Worker 2: Request sent, waiting for response\n",
      "Worker 2: Lock released, response received\n"
     ]
    }
   ],
   "source": [
    "import threading\n",
    "\n",
    "# Create a lock object to synchronize access\n",
    "lock = threading.Lock()\n",
    "\n",
    "def worker1():\n",
    "    global lock\n",
    "    # Worker 1 wants to send a request to the master\n",
    "    print(\"Worker 1: Waiting for lock\")\n",
    "    lock.acquire()\n",
    "    print(\"Worker 1: Lock acquired, sending request to master\")\n",
    "    # Send request to master\n",
    "    # ...\n",
    "    print(\"Worker 1: Request sent, waiting for response\")\n",
    "    lock.release()\n",
    "    print(\"Worker 1: Lock released, response received\")\n",
    "\n",
    "def worker2():\n",
    "    global lock\n",
    "    # Worker 2 wants to send a request to the master\n",
    "    print(\"Worker 2: Waiting for lock\")\n",
    "    lock.acquire()\n",
    "    print(\"Worker 2: Lock acquired, sending request to master\")\n",
    "    # Send request to master\n",
    "    # ...\n",
    "    print(\"Worker 2: Request sent, waiting for response\")\n",
    "    lock.release()\n",
    "    print(\"Worker 2: Lock released, response received\")\n",
    "\n",
    "# Create worker threads\n",
    "thread1 = threading.Thread(target=worker1)\n",
    "thread2 = threading.Thread(target=worker2)\n",
    "\n",
    "# Start the worker threads\n",
    "thread1.start()\n",
    "thread2.start()\n",
    "\n",
    "time.sleep(0.1)\n",
    "\n",
    "# Wait for both threads to finish\n",
    "thread1.join()\n",
    "thread2.join()\n"
   ],
   "metadata": {
    "collapsed": false,
    "ExecuteTime": {
     "end_time": "2023-12-18T08:40:01.163337400Z",
     "start_time": "2023-12-18T08:40:01.055289Z"
    }
   },
   "id": "769b14e5d6d43766"
  }
 ],
 "metadata": {
  "kernelspec": {
   "display_name": "Python 3",
   "language": "python",
   "name": "python3"
  },
  "language_info": {
   "codemirror_mode": {
    "name": "ipython",
    "version": 2
   },
   "file_extension": ".py",
   "mimetype": "text/x-python",
   "name": "python",
   "nbconvert_exporter": "python",
   "pygments_lexer": "ipython2",
   "version": "2.7.6"
  }
 },
 "nbformat": 4,
 "nbformat_minor": 5
}
